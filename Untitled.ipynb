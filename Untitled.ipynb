{
 "cells": [
  {
   "cell_type": "code",
   "execution_count": 1,
   "id": "22038877-86ac-44c4-bc85-cebcc4c92891",
   "metadata": {},
   "outputs": [],
   "source": [
    "import torch\n",
    "import cv2\n",
    "import numpy as np\n",
    "import base64\n",
    "import pandas as pd\n",
    "from datetime import datetime\n",
    "from PIL import Image"
   ]
  },
  {
   "cell_type": "code",
   "execution_count": 2,
   "id": "ce107641-64a2-4717-bb2c-919c99c37769",
   "metadata": {},
   "outputs": [
    {
     "name": "stderr",
     "output_type": "stream",
     "text": [
      "YOLOv5 🚀 v6.1-258-g1156a32 Python-3.10.5 torch-1.11.0+cu102 CUDA:0 (Quadro T1000, 3912MiB)\n",
      "\n",
      "Fusing layers... \n",
      "Model summary: 290 layers, 20861016 parameters, 0 gradients\n",
      "Adding AutoShape... \n"
     ]
    }
   ],
   "source": [
    "path_hubconfig = \"./facetracker/detection/yolov5\"\n",
    "path_weightfile = \"./facetracker/detection/best.pt\"  # or any custom trained model\n",
    "model = torch.hub.load(\n",
    "    path_hubconfig,\n",
    "    'custom', \n",
    "    path=path_weightfile,\n",
    "    source='local')\n"
   ]
  },
  {
   "cell_type": "code",
   "execution_count": 3,
   "id": "01720a82-9e69-4c31-ad1e-06fb4af1bc8e",
   "metadata": {},
   "outputs": [],
   "source": [
    "image_data = Image.open(\"./facetracker/detection/static/images/sample.jpg\")\n",
    "width, height = image_data.size\n",
    "factor = 640 / width\n",
    "resized_content = image_data.resize((int(width * factor), int(height * factor)))\n",
    "picture = np.asarray(resized_content)\n"
   ]
  },
  {
   "cell_type": "code",
   "execution_count": 4,
   "id": "21e3a832-572b-46ac-bd36-b264bec3b884",
   "metadata": {},
   "outputs": [],
   "source": [
    "def process_dataframe(dataframe: pd.DataFrame):\n",
    "    now = datetime.now()\n",
    "    clean_df: pd.DataFrame = dataframe[['confidence', 'class', 'name']]\n",
    "    # creates a new summary dataframe by grouping and counting per class\n",
    "    summary_df: pd.DataFrame = clean_df.groupby(\n",
    "        ['class', 'name']).size().reset_index(name='count')\n",
    "    # adds timestamp to the dataframe\n",
    "    summary_df['timestamp'] = now.strftime(\"%Y-%m-%dT%H:%M:%S.%f%z\")\n",
    "    return summary_df\n",
    "\n"
   ]
  },
  {
   "cell_type": "code",
   "execution_count": 5,
   "id": "d116b641-ae21-4f10-a556-7161b94647aa",
   "metadata": {},
   "outputs": [
    {
     "data": {
      "text/html": [
       "<div>\n",
       "<style scoped>\n",
       "    .dataframe tbody tr th:only-of-type {\n",
       "        vertical-align: middle;\n",
       "    }\n",
       "\n",
       "    .dataframe tbody tr th {\n",
       "        vertical-align: top;\n",
       "    }\n",
       "\n",
       "    .dataframe thead th {\n",
       "        text-align: right;\n",
       "    }\n",
       "</style>\n",
       "<table border=\"1\" class=\"dataframe\">\n",
       "  <thead>\n",
       "    <tr style=\"text-align: right;\">\n",
       "      <th></th>\n",
       "      <th>class</th>\n",
       "      <th>name</th>\n",
       "      <th>count</th>\n",
       "      <th>timestamp</th>\n",
       "    </tr>\n",
       "  </thead>\n",
       "  <tbody>\n",
       "    <tr>\n",
       "      <th>0</th>\n",
       "      <td>1</td>\n",
       "      <td>Distracted</td>\n",
       "      <td>5</td>\n",
       "      <td>2022-08-06T13:51:02.116562</td>\n",
       "    </tr>\n",
       "    <tr>\n",
       "      <th>1</th>\n",
       "      <td>2</td>\n",
       "      <td>Sleepy</td>\n",
       "      <td>4</td>\n",
       "      <td>2022-08-06T13:51:02.116562</td>\n",
       "    </tr>\n",
       "  </tbody>\n",
       "</table>\n",
       "</div>"
      ],
      "text/plain": [
       "   class        name  count                   timestamp\n",
       "0      1  Distracted      5  2022-08-06T13:51:02.116562\n",
       "1      2      Sleepy      4  2022-08-06T13:51:02.116562"
      ]
     },
     "execution_count": 5,
     "metadata": {},
     "output_type": "execute_result"
    }
   ],
   "source": [
    "results = model(picture, size=640)\n",
    "detected_df = results.pandas().xyxy[0]\n",
    "summary_df = process_dataframe(detected_df)\n",
    "summary_df"
   ]
  },
  {
   "cell_type": "code",
   "execution_count": null,
   "id": "f01a486a-a184-4767-ba3e-561d22bd3735",
   "metadata": {},
   "outputs": [],
   "source": []
  }
 ],
 "metadata": {
  "kernelspec": {
   "display_name": "Python 3 (ipykernel)",
   "language": "python",
   "name": "python3"
  },
  "language_info": {
   "codemirror_mode": {
    "name": "ipython",
    "version": 3
   },
   "file_extension": ".py",
   "mimetype": "text/x-python",
   "name": "python",
   "nbconvert_exporter": "python",
   "pygments_lexer": "ipython3",
   "version": "3.10.5"
  }
 },
 "nbformat": 4,
 "nbformat_minor": 5
}
