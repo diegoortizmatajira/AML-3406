{
 "cells": [
  {
   "cell_type": "code",
   "execution_count": 2,
   "id": "b4fec1dc-d112-4f97-81d8-bf4f3ac1cd2f",
   "metadata": {},
   "outputs": [],
   "source": [
    "import pandas as pd"
   ]
  },
  {
   "cell_type": "code",
   "execution_count": 30,
   "id": "cdb0f2c9-98cf-4b29-8cb6-cb92f3e053d3",
   "metadata": {},
   "outputs": [],
   "source": [
    "df = pd.read_json('history.json')"
   ]
  },
  {
   "cell_type": "code",
   "execution_count": 31,
   "id": "9e214992-ae01-48d0-ba82-c2fba523853a",
   "metadata": {},
   "outputs": [],
   "source": [
    "df = df.drop(['class'], axis=1)"
   ]
  },
  {
   "cell_type": "code",
   "execution_count": 32,
   "id": "8ab62c3a-0234-46cc-90fe-33de5edcd365",
   "metadata": {},
   "outputs": [
    {
     "data": {
      "text/html": [
       "<div>\n",
       "<style scoped>\n",
       "    .dataframe tbody tr th:only-of-type {\n",
       "        vertical-align: middle;\n",
       "    }\n",
       "\n",
       "    .dataframe tbody tr th {\n",
       "        vertical-align: top;\n",
       "    }\n",
       "\n",
       "    .dataframe thead th {\n",
       "        text-align: right;\n",
       "    }\n",
       "</style>\n",
       "<table border=\"1\" class=\"dataframe\">\n",
       "  <thead>\n",
       "    <tr style=\"text-align: right;\">\n",
       "      <th>name</th>\n",
       "      <th>Attentive</th>\n",
       "      <th>Distracted</th>\n",
       "      <th>Sleepy</th>\n",
       "    </tr>\n",
       "    <tr>\n",
       "      <th>timestamp</th>\n",
       "      <th></th>\n",
       "      <th></th>\n",
       "      <th></th>\n",
       "    </tr>\n",
       "  </thead>\n",
       "  <tbody>\n",
       "    <tr>\n",
       "      <th>2022-08-04 01:59:07.611724</th>\n",
       "      <td>NaN</td>\n",
       "      <td>2.0</td>\n",
       "      <td>1.0</td>\n",
       "    </tr>\n",
       "    <tr>\n",
       "      <th>2022-08-04 01:59:07.694475</th>\n",
       "      <td>NaN</td>\n",
       "      <td>NaN</td>\n",
       "      <td>1.0</td>\n",
       "    </tr>\n",
       "    <tr>\n",
       "      <th>2022-08-04 01:59:07.995750</th>\n",
       "      <td>NaN</td>\n",
       "      <td>NaN</td>\n",
       "      <td>1.0</td>\n",
       "    </tr>\n",
       "    <tr>\n",
       "      <th>2022-08-04 01:59:08.297242</th>\n",
       "      <td>NaN</td>\n",
       "      <td>1.0</td>\n",
       "      <td>NaN</td>\n",
       "    </tr>\n",
       "    <tr>\n",
       "      <th>2022-08-04 01:59:08.609718</th>\n",
       "      <td>NaN</td>\n",
       "      <td>NaN</td>\n",
       "      <td>1.0</td>\n",
       "    </tr>\n",
       "    <tr>\n",
       "      <th>...</th>\n",
       "      <td>...</td>\n",
       "      <td>...</td>\n",
       "      <td>...</td>\n",
       "    </tr>\n",
       "    <tr>\n",
       "      <th>2022-08-04 01:59:29.025568</th>\n",
       "      <td>NaN</td>\n",
       "      <td>NaN</td>\n",
       "      <td>1.0</td>\n",
       "    </tr>\n",
       "    <tr>\n",
       "      <th>2022-08-04 01:59:29.310798</th>\n",
       "      <td>NaN</td>\n",
       "      <td>NaN</td>\n",
       "      <td>1.0</td>\n",
       "    </tr>\n",
       "    <tr>\n",
       "      <th>2022-08-04 01:59:29.631209</th>\n",
       "      <td>NaN</td>\n",
       "      <td>NaN</td>\n",
       "      <td>1.0</td>\n",
       "    </tr>\n",
       "    <tr>\n",
       "      <th>2022-08-04 01:59:29.912188</th>\n",
       "      <td>NaN</td>\n",
       "      <td>NaN</td>\n",
       "      <td>1.0</td>\n",
       "    </tr>\n",
       "    <tr>\n",
       "      <th>2022-08-04 01:59:30.222371</th>\n",
       "      <td>NaN</td>\n",
       "      <td>NaN</td>\n",
       "      <td>1.0</td>\n",
       "    </tr>\n",
       "  </tbody>\n",
       "</table>\n",
       "<p>77 rows × 3 columns</p>\n",
       "</div>"
      ],
      "text/plain": [
       "name                        Attentive  Distracted  Sleepy\n",
       "timestamp                                                \n",
       "2022-08-04 01:59:07.611724        NaN         2.0     1.0\n",
       "2022-08-04 01:59:07.694475        NaN         NaN     1.0\n",
       "2022-08-04 01:59:07.995750        NaN         NaN     1.0\n",
       "2022-08-04 01:59:08.297242        NaN         1.0     NaN\n",
       "2022-08-04 01:59:08.609718        NaN         NaN     1.0\n",
       "...                               ...         ...     ...\n",
       "2022-08-04 01:59:29.025568        NaN         NaN     1.0\n",
       "2022-08-04 01:59:29.310798        NaN         NaN     1.0\n",
       "2022-08-04 01:59:29.631209        NaN         NaN     1.0\n",
       "2022-08-04 01:59:29.912188        NaN         NaN     1.0\n",
       "2022-08-04 01:59:30.222371        NaN         NaN     1.0\n",
       "\n",
       "[77 rows x 3 columns]"
      ]
     },
     "execution_count": 32,
     "metadata": {},
     "output_type": "execute_result"
    }
   ],
   "source": [
    "gdf = df.groupby(['timestamp', 'name']).sum('count')\n",
    "gdf = gdf['count'].unstack()\n",
    "gdf"
   ]
  },
  {
   "cell_type": "code",
   "execution_count": 36,
   "id": "aef4b341-6979-44b3-9d78-604116ab6f20",
   "metadata": {},
   "outputs": [],
   "source": [
    "gdf = gdf.divide(gdf.sum(axis=1), axis=0)"
   ]
  },
  {
   "cell_type": "code",
   "execution_count": 41,
   "id": "1e0b19a5-63cf-409b-bfd6-b773f4fee8ae",
   "metadata": {},
   "outputs": [
    {
     "data": {
      "text/plain": [
       "<Figure size 576x432 with 0 Axes>"
      ]
     },
     "metadata": {},
     "output_type": "display_data"
    },
    {
     "data": {
      "image/png": "[encoded data removed]",
      "text/plain": [
       "<Figure size 432x288 with 1 Axes>"
      ]
     },
     "metadata": {
      "needs_background": "light"
     },
     "output_type": "display_data"
    }
   ],
   "source": [
    "from matplotlib import pyplot as plt\n",
    "fig = plt.figure(figsize=(8,6))\n",
    "gdf.plot.area(stacked=True, title= 'Percentage of moods', logx = True)\n",
    "plt.savefig(\"mygraph.png\")"
   ]
  },
  {
   "cell_type": "code",
   "execution_count": 22,
   "id": "fa823cbb-d5bd-4f3b-9d99-73b09539ea50",
   "metadata": {},
   "outputs": [
    {
     "data": {
      "text/plain": [
       "<_io.BytesIO at 0x7fd07ff3d9e0>"
      ]
     },
     "execution_count": 22,
     "metadata": {},
     "output_type": "execute_result"
    },
    {
     "data": {
      "text/plain": [
       "<Figure size 432x288 with 0 Axes>"
      ]
     },
     "metadata": {},
     "output_type": "display_data"
    }
   ],
   "source": [
    "from io import BytesIO\n",
    "buf = BytesIO()\n",
    "plt.savefig(buf)\n",
    "buf.getbuffer()"
   ]
  },
  {
   "cell_type": "code",
   "execution_count": 25,
   "id": "20f84bc7-5ff8-4620-8906-f17db8ba26ca",
   "metadata": {},
   "outputs": [
    {
     "data": {
      "text/plain": [
       "<memory at 0x7fd085f1af80>"
      ]
     },
     "execution_count": 25,
     "metadata": {},
     "output_type": "execute_result"
    }
   ],
   "source": []
  },
  {
   "cell_type": "code",
   "execution_count": 3,
   "id": "890885f3-3cea-4749-aa19-770975f3eb79",
   "metadata": {},
   "outputs": [],
   "source": [
    "df = pd.read_json('single.json')\n",
    "df = df.drop(['class'], axis=1)"
   ]
  },
  {
   "cell_type": "code",
   "execution_count": 4,
   "id": "f8b41c7c-50ed-4474-9116-286acc4374b4",
   "metadata": {},
   "outputs": [
    {
     "data": {
      "text/html": [
       "<div>\n",
       "<style scoped>\n",
       "    .dataframe tbody tr th:only-of-type {\n",
       "        vertical-align: middle;\n",
       "    }\n",
       "\n",
       "    .dataframe tbody tr th {\n",
       "        vertical-align: top;\n",
       "    }\n",
       "\n",
       "    .dataframe thead th {\n",
       "        text-align: right;\n",
       "    }\n",
       "</style>\n",
       "<table border=\"1\" class=\"dataframe\">\n",
       "  <thead>\n",
       "    <tr style=\"text-align: right;\">\n",
       "      <th></th>\n",
       "      <th>timestamp</th>\n",
       "      <th>name</th>\n",
       "      <th>count</th>\n",
       "    </tr>\n",
       "  </thead>\n",
       "  <tbody>\n",
       "    <tr>\n",
       "      <th>0</th>\n",
       "      <td>2022-08-04 01:59:07.611724</td>\n",
       "      <td>Distracted</td>\n",
       "      <td>2</td>\n",
       "    </tr>\n",
       "    <tr>\n",
       "      <th>1</th>\n",
       "      <td>2022-08-04 01:59:07.611724</td>\n",
       "      <td>Sleepy</td>\n",
       "      <td>1</td>\n",
       "    </tr>\n",
       "  </tbody>\n",
       "</table>\n",
       "</div>"
      ],
      "text/plain": [
       "                   timestamp        name  count\n",
       "0 2022-08-04 01:59:07.611724  Distracted      2\n",
       "1 2022-08-04 01:59:07.611724      Sleepy      1"
      ]
     },
     "execution_count": 4,
     "metadata": {},
     "output_type": "execute_result"
    }
   ],
   "source": [
    "df"
   ]
  },
  {
   "cell_type": "code",
   "execution_count": 9,
   "id": "612fe450-0e64-444d-911d-1c1f9fb13da8",
   "metadata": {},
   "outputs": [
    {
     "data": {
      "text/plain": [
       "<AxesSubplot:ylabel='count'>"
      ]
     },
     "execution_count": 9,
     "metadata": {},
     "output_type": "execute_result"
    },
    {
     "data": {
      "image/png": "[encoded data removed]",
      "text/plain": [
       "<Figure size 432x288 with 1 Axes>"
      ]
     },
     "metadata": {},
     "output_type": "display_data"
    }
   ],
   "source": [
    "df.groupby(['name']).sum().plot(kind='pie', y='count') "
   ]
  },
  {
   "cell_type": "code",
   "execution_count": null,
   "id": "bfc9f005-736c-42a2-8261-cc548e695688",
   "metadata": {},
   "outputs": [],
   "source": []
  }
 ],
 "metadata": {
  "kernelspec": {
   "display_name": "Python 3 (ipykernel)",
   "language": "python",
   "name": "python3"
  },
  "language_info": {
   "codemirror_mode": {
    "name": "ipython",
    "version": 3
   },
   "file_extension": ".py",
   "mimetype": "text/x-python",
   "name": "python",
   "nbconvert_exporter": "python",
   "pygments_lexer": "ipython3",
   "version": "3.10.5"
  }
 },
 "nbformat": 4,
 "nbformat_minor": 5
}
